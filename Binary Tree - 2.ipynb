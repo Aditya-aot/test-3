{
 "cells": [
  {
   "cell_type": "code",
   "execution_count": 10,
   "id": "cdcdb7ac",
   "metadata": {},
   "outputs": [
    {
     "name": "stdout",
     "output_type": "stream",
     "text": [
      "1\n",
      "2\n",
      "4\n",
      "-1\n",
      "-1\n",
      "5\n",
      "8\n",
      "-1\n",
      "-1\n",
      "9\n",
      "-1\n",
      "-1\n",
      "3\n",
      "6\n",
      "-1\n",
      "-1\n",
      "7\n",
      "-1\n",
      "-1\n",
      "1:L 2,R 3\n",
      "2:L 4,R 5\n",
      "4:\n",
      "5:L 8,R 9\n",
      "8:\n",
      "9:\n",
      "3:L 6,R 7\n",
      "6:\n",
      "7:\n"
     ]
    }
   ],
   "source": [
    "class BinaryTreeNode:\n",
    "    def __init__(self,data):\n",
    "        self.data=data;\n",
    "        self.left=None\n",
    "        self.right=None\n",
    "\n",
    "def printTree(root):\n",
    "    if root==None:\n",
    "        return\n",
    "    print(root.data)\n",
    "    printTree(root.left)\n",
    "    printTree(root.right)\n",
    "\n",
    "def printTreeDetailed(root):\n",
    "    if root==None:\n",
    "        return\n",
    "    print(root.data,end=\":\")\n",
    "    if root.left!=None:\n",
    "        print(\"L\",root.left.data,end=\",\")\n",
    "    if root.right!=None:\n",
    "        print(\"R\",root.right.data,end=\"\")\n",
    "    print()\n",
    "    printTreeDetailed(root.left)\n",
    "    printTreeDetailed(root.right)\n",
    "\n",
    "def treeInput():\n",
    "    rootData=int(input())\n",
    "    if rootData==-1:\n",
    "        return None\n",
    "    root=BinaryTreeNode(rootData)\n",
    "    leftTree=treeInput()\n",
    "    rightTree=treeInput()\n",
    "    root.left=leftTree\n",
    "    root.right=rightTree\n",
    "    return root\n",
    "\n",
    "\n",
    "root=treeInput()\n",
    "printTreeDetailed(root)\n",
    "# 1\n",
    "# 2\n",
    "# 4\n",
    "# -1\n",
    "# -1\n",
    "# 5\n",
    "# 8\n",
    "# -1\n",
    "# -1\n",
    "# 9\n",
    "# -1\n",
    "# -1\n",
    "# 3\n",
    "# 6\n",
    "# -1\n",
    "# -1\n",
    "# 7\n",
    "# -1\n",
    "# -1"
   ]
  },
  {
   "cell_type": "markdown",
   "id": "672ad302",
   "metadata": {},
   "source": [
    "#  Remove Leaf Nodes"
   ]
  },
  {
   "cell_type": "code",
   "execution_count": 11,
   "id": "1491d78a",
   "metadata": {},
   "outputs": [],
   "source": [
    "\n",
    "# def removeLeaves(root):\n",
    "#     if root==None:\n",
    "#         return None\n",
    "#     if root.left==None and root.right==None:\n",
    "#         return None\n",
    "#     root.left=removeLeaves(root.left)\n",
    "#     root.right=removeLeaves(root.right)\n",
    "#     return root\n",
    "\n",
    "# root=removeLeaves(root)\n",
    "# printTreeDetailed(root)"
   ]
  },
  {
   "cell_type": "markdown",
   "id": "4f02d2aa",
   "metadata": {},
   "source": [
    "#  Check if Binary Tree is Balanced"
   ]
  },
  {
   "cell_type": "code",
   "execution_count": 12,
   "id": "5ee051bf",
   "metadata": {},
   "outputs": [
    {
     "name": "stdout",
     "output_type": "stream",
     "text": [
      "1:L 2,R 3\n",
      "2:L 4,R 5\n",
      "4:\n",
      "5:L 8,R 9\n",
      "8:\n",
      "9:\n",
      "3:L 6,R 7\n",
      "6:\n",
      "7:\n",
      "True\n"
     ]
    }
   ],
   "source": [
    "def height(root):\n",
    "    if root==None:\n",
    "        return 0\n",
    "    return 1+max(height(root.left),height(root.right))\n",
    "\n",
    "\n",
    "def isBalanced(root):\n",
    "    if root==None:\n",
    "        return True\n",
    "    lh=height(root.left)\n",
    "    rh=height(root.right)\n",
    "    if lh-rh>1 or rh-lh>1:\n",
    "        return False\n",
    "    isLeftBalanced=isBalanced(root.left)\n",
    "    isRightBalanced=isBalanced(root.right)\n",
    "    if isLeftBalanced and isRightBalanced:\n",
    "        return True\n",
    "    else:\n",
    "        return False\n",
    "\n",
    "printTreeDetailed(root)\n",
    "print(isBalanced(root))"
   ]
  },
  {
   "cell_type": "code",
   "execution_count": null,
   "id": "d24dd5c6",
   "metadata": {},
   "outputs": [],
   "source": []
  }
 ],
 "metadata": {
  "kernelspec": {
   "display_name": "Python 3",
   "language": "python",
   "name": "python3"
  },
  "language_info": {
   "codemirror_mode": {
    "name": "ipython",
    "version": 3
   },
   "file_extension": ".py",
   "mimetype": "text/x-python",
   "name": "python",
   "nbconvert_exporter": "python",
   "pygments_lexer": "ipython3",
   "version": "3.8.8"
  }
 },
 "nbformat": 4,
 "nbformat_minor": 5
}
